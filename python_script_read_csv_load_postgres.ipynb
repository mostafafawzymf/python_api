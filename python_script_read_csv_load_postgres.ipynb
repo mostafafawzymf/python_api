{
 "cells": [
  {
   "cell_type": "code",
   "execution_count": 1,
   "id": "f0f88f27",
   "metadata": {},
   "outputs": [],
   "source": [
    "import csv\n",
    "import pandas as pd\n",
    "import psycopg2\n",
    "\n",
    "# Extract data from CSV using csv module\n",
    "def extract_data(csv_file):\n",
    "#     we can use pandas to extract the data from the file by \n",
    "\n",
    "#     df = pd.read_csv(csv_file)\n",
    "\n",
    "#    or we can use the following \n",
    "    \n",
    "    data = []\n",
    "    \n",
    "    with open(csv_file) as file:\n",
    "        csv_reader = csv.DictReader(file)\n",
    "        for row in csv_reader:\n",
    "            data.append(row)\n",
    "    return data\n",
    "\n",
    "\n",
    "# Transform data using Pandas\n",
    "\n",
    "\n",
    "def transform (data):\n",
    "    df = pd.DataFrame(data)\n",
    "    \n",
    "#     we can do many tasks with pandas\n",
    "\n",
    "\n",
    "    df.drop_duplicates(inplace=True)\n",
    "    df.dropna(inplace=True)\n",
    "    \n",
    "    \n",
    "    return df\n",
    "\n",
    "\n",
    "\n",
    "# Load data into PostgreSQL database\n",
    "\n",
    "\n",
    "\n",
    "def load_data_to_postgres(transformed):\n",
    "    \n",
    "    \n",
    "    db_connection = psycopg2.connect(database = \"testdb\", user = \"postgres\", password = \"welcome1\", host = \"127.0.0.1\", port = \"5432\")\n",
    "    print (\"Opened database successfully\)"\n",
    "\n",
    "    \n",
    "    cursor = db_connection.cursor()\n",
    "    \n",
    "    cursor.execute('''CREATE TABLE customer_data\n",
    "    \n",
    "      (customer_id INT PRIMARY KEY     NOT NULL,\n",
    "      first_name           TEXT    NOT NULL,\n",
    "      last_name            TEXT\n",
    "      email                TEXT\n",
    "      phone_number         TEXT\n",
    "      city                 TEXT\n",
    "      state                TEXT\n",
    "      zip_code             TEXT );''')\n",
    "    \n",
    "    print( \"Table created successfully\")\n",
    "    \n",
    "    for index, row in transformed.iterrows():\n",
    "        query = f\"INSERT INTO customer_data (customer_id, first_name, last_name, email, phone_number, city, state, zip_code) \" \\\n",
    "                f\"VALUES ('{row['customer_id']}', '{row['first_name']}', '{row['last_name']}', '{row['email']}', \" \\\n",
    "                f\"'{row['phone_number']}', '{row['city']}', '{row['state']}', '{row['zip_code']}');\"\n",
    "        cursor.execute(query)\n",
    "    db_connection.commit()\n",
    "    \n",
    "    db_connection.close()\n",
    "    \n",
    "\n",
    "if __name__ == \"__main__\":\n",
    "    csv_file = \"customer_data.csv\"\n",
    "    data = extract_data(csv_file)\n",
    "    transformed = transform(data)\n",
    "    load_data_to_postgres(transformed)\n",
    "\n",
    "\n"
   ]
  },
  {
   "cell_type": "code",
   "execution_count": 11,
   "id": "3d056f15",
   "metadata": {},
   "outputs": [
    {
     "name": "stdout",
     "output_type": "stream",
     "text": [
      "<class 'pandas.core.frame.DataFrame'>\n",
      "RangeIndex: 5 entries, 0 to 4\n",
      "Data columns (total 8 columns):\n",
      " #   Column        Non-Null Count  Dtype \n",
      "---  ------        --------------  ----- \n",
      " 0   customer_id   5 non-null      object\n",
      " 1   first_name    5 non-null      object\n",
      " 2   last_name     5 non-null      object\n",
      " 3   email         5 non-null      object\n",
      " 4   phone_number  5 non-null      object\n",
      " 5   city          5 non-null      object\n",
      " 6   state         5 non-null      object\n",
      " 7   zip_code      5 non-null      object\n",
      "dtypes: object(8)\n",
      "memory usage: 448.0+ bytes\n"
     ]
    }
   ],
   "source": [
    "transformed.info()"
   ]
  },
  {
   "cell_type": "code",
   "execution_count": 19,
   "id": "762e7644",
   "metadata": {},
   "outputs": [
    {
     "data": {
      "text/html": [
       "<div>\n",
       "<style scoped>\n",
       "    .dataframe tbody tr th:only-of-type {\n",
       "        vertical-align: middle;\n",
       "    }\n",
       "\n",
       "    .dataframe tbody tr th {\n",
       "        vertical-align: top;\n",
       "    }\n",
       "\n",
       "    .dataframe thead th {\n",
       "        text-align: right;\n",
       "    }\n",
       "</style>\n",
       "<table border=\"1\" class=\"dataframe\">\n",
       "  <thead>\n",
       "    <tr style=\"text-align: right;\">\n",
       "      <th></th>\n",
       "      <th>customer_id</th>\n",
       "      <th>first_name</th>\n",
       "      <th>last_name</th>\n",
       "      <th>email</th>\n",
       "      <th>phone_number</th>\n",
       "      <th>city</th>\n",
       "      <th>state</th>\n",
       "      <th>zip_code</th>\n",
       "    </tr>\n",
       "  </thead>\n",
       "  <tbody>\n",
       "    <tr>\n",
       "      <th>0</th>\n",
       "      <td>1</td>\n",
       "      <td>John</td>\n",
       "      <td>Doe</td>\n",
       "      <td>johndoe@example.com</td>\n",
       "      <td>555-123-4567</td>\n",
       "      <td>New York</td>\n",
       "      <td>NY</td>\n",
       "      <td>10001</td>\n",
       "    </tr>\n",
       "    <tr>\n",
       "      <th>1</th>\n",
       "      <td>2</td>\n",
       "      <td>Jane</td>\n",
       "      <td>Smith</td>\n",
       "      <td>janesmith@example.com</td>\n",
       "      <td>555-987-6543</td>\n",
       "      <td>Los Angeles</td>\n",
       "      <td>CA</td>\n",
       "      <td>90001</td>\n",
       "    </tr>\n",
       "    <tr>\n",
       "      <th>2</th>\n",
       "      <td>3</td>\n",
       "      <td>Michael</td>\n",
       "      <td>Johnson</td>\n",
       "      <td>michaeljohnson@example.com</td>\n",
       "      <td>555-555-5555</td>\n",
       "      <td>Chicago</td>\n",
       "      <td>IL</td>\n",
       "      <td>60601</td>\n",
       "    </tr>\n",
       "    <tr>\n",
       "      <th>3</th>\n",
       "      <td>4</td>\n",
       "      <td>Sarah</td>\n",
       "      <td>Williams</td>\n",
       "      <td>sarahwilliams@example.com</td>\n",
       "      <td>555-111-2222</td>\n",
       "      <td>Houston</td>\n",
       "      <td>TX</td>\n",
       "      <td>77001</td>\n",
       "    </tr>\n",
       "  </tbody>\n",
       "</table>\n",
       "</div>"
      ],
      "text/plain": [
       "  customer_id first_name last_name                       email  phone_number  \\\n",
       "0           1       John       Doe         johndoe@example.com  555-123-4567   \n",
       "1           2       Jane     Smith       janesmith@example.com  555-987-6543   \n",
       "2           3    Michael   Johnson  michaeljohnson@example.com  555-555-5555   \n",
       "3           4      Sarah  Williams   sarahwilliams@example.com  555-111-2222   \n",
       "\n",
       "          city state zip_code  \n",
       "0     New York    NY    10001  \n",
       "1  Los Angeles    CA    90001  \n",
       "2      Chicago    IL    60601  \n",
       "3      Houston    TX    77001  "
      ]
     },
     "execution_count": 19,
     "metadata": {},
     "output_type": "execute_result"
    }
   ],
   "source": [
    "transformed.head(4)"
   ]
  },
  {
   "cell_type": "code",
   "execution_count": 4,
   "id": "2526d3f4",
   "metadata": {},
   "outputs": [
    {
     "data": {
      "text/plain": [
       "customer_id     0\n",
       "first_name      0\n",
       "last_name       0\n",
       "email           0\n",
       "phone_number    0\n",
       "city            0\n",
       "state           0\n",
       "zip_code        0\n",
       "dtype: int64"
      ]
     },
     "execution_count": 4,
     "metadata": {},
     "output_type": "execute_result"
    }
   ],
   "source": [
    "transformed.isnull().sum()\n",
    "# "
   ]
  },
  {
   "cell_type": "code",
   "execution_count": 5,
   "id": "0f08a7dc",
   "metadata": {},
   "outputs": [
    {
     "data": {
      "text/plain": [
       "0"
      ]
     },
     "execution_count": 5,
     "metadata": {},
     "output_type": "execute_result"
    }
   ],
   "source": [
    "transformed.duplicated().sum()"
   ]
  }
 ],
 "metadata": {
  "kernelspec": {
   "display_name": "Python 3 (ipykernel)",
   "language": "python",
   "name": "python3"
  },
  "language_info": {
   "codemirror_mode": {
    "name": "ipython",
    "version": 3
   },
   "file_extension": ".py",
   "mimetype": "text/x-python",
   "name": "python",
   "nbconvert_exporter": "python",
   "pygments_lexer": "ipython3",
   "version": "3.10.9"
  }
 },
 "nbformat": 4,
 "nbformat_minor": 5
}
